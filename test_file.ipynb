{
 "cells": [
  {
   "cell_type": "code",
   "execution_count": 1,
   "id": "7f8eee3e-b513-4916-96fc-1a91410dcbfd",
   "metadata": {},
   "outputs": [
    {
     "name": "stdout",
     "output_type": "stream",
     "text": [
      "Requirement already satisfied: deepface in c:\\users\\dhruv\\anaconda3\\lib\\site-packages (0.0.93)\n",
      "Requirement already satisfied: opencv-python in c:\\users\\dhruv\\anaconda3\\lib\\site-packages (4.11.0.86)\n",
      "Requirement already satisfied: requests>=2.27.1 in c:\\users\\dhruv\\anaconda3\\lib\\site-packages (from deepface) (2.32.3)\n",
      "Requirement already satisfied: numpy>=1.14.0 in c:\\users\\dhruv\\anaconda3\\lib\\site-packages (from deepface) (1.26.4)\n",
      "Requirement already satisfied: pandas>=0.23.4 in c:\\users\\dhruv\\anaconda3\\lib\\site-packages (from deepface) (2.2.2)\n",
      "Requirement already satisfied: gdown>=3.10.1 in c:\\users\\dhruv\\anaconda3\\lib\\site-packages (from deepface) (5.2.0)\n",
      "Requirement already satisfied: tqdm>=4.30.0 in c:\\users\\dhruv\\anaconda3\\lib\\site-packages (from deepface) (4.66.5)\n",
      "Requirement already satisfied: Pillow>=5.2.0 in c:\\users\\dhruv\\anaconda3\\lib\\site-packages (from deepface) (10.4.0)\n",
      "Requirement already satisfied: tensorflow>=1.9.0 in c:\\users\\dhruv\\anaconda3\\lib\\site-packages (from deepface) (2.19.0)\n",
      "Requirement already satisfied: keras>=2.2.0 in c:\\users\\dhruv\\anaconda3\\lib\\site-packages (from deepface) (3.9.2)\n",
      "Requirement already satisfied: Flask>=1.1.2 in c:\\users\\dhruv\\anaconda3\\lib\\site-packages (from deepface) (3.0.3)\n",
      "Requirement already satisfied: flask-cors>=4.0.1 in c:\\users\\dhruv\\anaconda3\\lib\\site-packages (from deepface) (5.0.1)\n",
      "Requirement already satisfied: mtcnn>=0.1.0 in c:\\users\\dhruv\\anaconda3\\lib\\site-packages (from deepface) (1.0.0)\n",
      "Requirement already satisfied: retina-face>=0.0.1 in c:\\users\\dhruv\\anaconda3\\lib\\site-packages (from deepface) (0.0.17)\n",
      "Requirement already satisfied: fire>=0.4.0 in c:\\users\\dhruv\\anaconda3\\lib\\site-packages (from deepface) (0.7.0)\n",
      "Requirement already satisfied: gunicorn>=20.1.0 in c:\\users\\dhruv\\anaconda3\\lib\\site-packages (from deepface) (23.0.0)\n",
      "Requirement already satisfied: termcolor in c:\\users\\dhruv\\anaconda3\\lib\\site-packages (from fire>=0.4.0->deepface) (3.0.1)\n",
      "Requirement already satisfied: Werkzeug>=3.0.0 in c:\\users\\dhruv\\anaconda3\\lib\\site-packages (from Flask>=1.1.2->deepface) (3.0.3)\n",
      "Requirement already satisfied: Jinja2>=3.1.2 in c:\\users\\dhruv\\anaconda3\\lib\\site-packages (from Flask>=1.1.2->deepface) (3.1.4)\n",
      "Requirement already satisfied: itsdangerous>=2.1.2 in c:\\users\\dhruv\\anaconda3\\lib\\site-packages (from Flask>=1.1.2->deepface) (2.2.0)\n",
      "Requirement already satisfied: click>=8.1.3 in c:\\users\\dhruv\\anaconda3\\lib\\site-packages (from Flask>=1.1.2->deepface) (8.1.7)\n",
      "Requirement already satisfied: blinker>=1.6.2 in c:\\users\\dhruv\\anaconda3\\lib\\site-packages (from Flask>=1.1.2->deepface) (1.6.2)\n",
      "Requirement already satisfied: beautifulsoup4 in c:\\users\\dhruv\\anaconda3\\lib\\site-packages (from gdown>=3.10.1->deepface) (4.12.3)\n",
      "Requirement already satisfied: filelock in c:\\users\\dhruv\\anaconda3\\lib\\site-packages (from gdown>=3.10.1->deepface) (3.13.1)\n",
      "Requirement already satisfied: packaging in c:\\users\\dhruv\\anaconda3\\lib\\site-packages (from gunicorn>=20.1.0->deepface) (24.1)\n",
      "Requirement already satisfied: absl-py in c:\\users\\dhruv\\anaconda3\\lib\\site-packages (from keras>=2.2.0->deepface) (2.2.2)\n",
      "Requirement already satisfied: rich in c:\\users\\dhruv\\anaconda3\\lib\\site-packages (from keras>=2.2.0->deepface) (13.7.1)\n",
      "Requirement already satisfied: namex in c:\\users\\dhruv\\anaconda3\\lib\\site-packages (from keras>=2.2.0->deepface) (0.0.8)\n",
      "Requirement already satisfied: h5py in c:\\users\\dhruv\\anaconda3\\lib\\site-packages (from keras>=2.2.0->deepface) (3.11.0)\n",
      "Requirement already satisfied: optree in c:\\users\\dhruv\\anaconda3\\lib\\site-packages (from keras>=2.2.0->deepface) (0.15.0)\n",
      "Requirement already satisfied: ml-dtypes in c:\\users\\dhruv\\anaconda3\\lib\\site-packages (from keras>=2.2.0->deepface) (0.5.1)\n",
      "Requirement already satisfied: joblib>=1.4.2 in c:\\users\\dhruv\\anaconda3\\lib\\site-packages (from mtcnn>=0.1.0->deepface) (1.4.2)\n",
      "Requirement already satisfied: lz4>=4.3.3 in c:\\users\\dhruv\\anaconda3\\lib\\site-packages (from mtcnn>=0.1.0->deepface) (4.4.4)\n",
      "Requirement already satisfied: python-dateutil>=2.8.2 in c:\\users\\dhruv\\anaconda3\\lib\\site-packages (from pandas>=0.23.4->deepface) (2.9.0.post0)\n",
      "Requirement already satisfied: pytz>=2020.1 in c:\\users\\dhruv\\anaconda3\\lib\\site-packages (from pandas>=0.23.4->deepface) (2024.1)\n",
      "Requirement already satisfied: tzdata>=2022.7 in c:\\users\\dhruv\\anaconda3\\lib\\site-packages (from pandas>=0.23.4->deepface) (2023.3)\n",
      "Requirement already satisfied: charset-normalizer<4,>=2 in c:\\users\\dhruv\\anaconda3\\lib\\site-packages (from requests>=2.27.1->deepface) (3.3.2)\n",
      "Requirement already satisfied: idna<4,>=2.5 in c:\\users\\dhruv\\anaconda3\\lib\\site-packages (from requests>=2.27.1->deepface) (3.7)\n",
      "Requirement already satisfied: urllib3<3,>=1.21.1 in c:\\users\\dhruv\\anaconda3\\lib\\site-packages (from requests>=2.27.1->deepface) (2.2.3)\n",
      "Requirement already satisfied: certifi>=2017.4.17 in c:\\users\\dhruv\\anaconda3\\lib\\site-packages (from requests>=2.27.1->deepface) (2025.1.31)\n",
      "Requirement already satisfied: astunparse>=1.6.0 in c:\\users\\dhruv\\anaconda3\\lib\\site-packages (from tensorflow>=1.9.0->deepface) (1.6.3)\n",
      "Requirement already satisfied: flatbuffers>=24.3.25 in c:\\users\\dhruv\\anaconda3\\lib\\site-packages (from tensorflow>=1.9.0->deepface) (25.2.10)\n",
      "Requirement already satisfied: gast!=0.5.0,!=0.5.1,!=0.5.2,>=0.2.1 in c:\\users\\dhruv\\anaconda3\\lib\\site-packages (from tensorflow>=1.9.0->deepface) (0.6.0)\n",
      "Requirement already satisfied: google-pasta>=0.1.1 in c:\\users\\dhruv\\anaconda3\\lib\\site-packages (from tensorflow>=1.9.0->deepface) (0.2.0)\n",
      "Requirement already satisfied: libclang>=13.0.0 in c:\\users\\dhruv\\anaconda3\\lib\\site-packages (from tensorflow>=1.9.0->deepface) (18.1.1)\n",
      "Requirement already satisfied: opt-einsum>=2.3.2 in c:\\users\\dhruv\\anaconda3\\lib\\site-packages (from tensorflow>=1.9.0->deepface) (3.4.0)\n",
      "Requirement already satisfied: protobuf!=4.21.0,!=4.21.1,!=4.21.2,!=4.21.3,!=4.21.4,!=4.21.5,<6.0.0dev,>=3.20.3 in c:\\users\\dhruv\\anaconda3\\lib\\site-packages (from tensorflow>=1.9.0->deepface) (4.25.3)\n",
      "Requirement already satisfied: setuptools in c:\\users\\dhruv\\anaconda3\\lib\\site-packages (from tensorflow>=1.9.0->deepface) (75.1.0)\n",
      "Requirement already satisfied: six>=1.12.0 in c:\\users\\dhruv\\anaconda3\\lib\\site-packages (from tensorflow>=1.9.0->deepface) (1.16.0)\n",
      "Requirement already satisfied: typing-extensions>=3.6.6 in c:\\users\\dhruv\\anaconda3\\lib\\site-packages (from tensorflow>=1.9.0->deepface) (4.11.0)\n",
      "Requirement already satisfied: wrapt>=1.11.0 in c:\\users\\dhruv\\anaconda3\\lib\\site-packages (from tensorflow>=1.9.0->deepface) (1.14.1)\n",
      "Requirement already satisfied: grpcio<2.0,>=1.24.3 in c:\\users\\dhruv\\anaconda3\\lib\\site-packages (from tensorflow>=1.9.0->deepface) (1.71.0)\n",
      "Requirement already satisfied: tensorboard~=2.19.0 in c:\\users\\dhruv\\anaconda3\\lib\\site-packages (from tensorflow>=1.9.0->deepface) (2.19.0)\n",
      "Requirement already satisfied: colorama in c:\\users\\dhruv\\anaconda3\\lib\\site-packages (from tqdm>=4.30.0->deepface) (0.4.6)\n",
      "Requirement already satisfied: wheel<1.0,>=0.23.0 in c:\\users\\dhruv\\anaconda3\\lib\\site-packages (from astunparse>=1.6.0->tensorflow>=1.9.0->deepface) (0.44.0)\n",
      "Requirement already satisfied: MarkupSafe>=2.0 in c:\\users\\dhruv\\anaconda3\\lib\\site-packages (from Jinja2>=3.1.2->Flask>=1.1.2->deepface) (2.1.3)\n",
      "Requirement already satisfied: markdown>=2.6.8 in c:\\users\\dhruv\\anaconda3\\lib\\site-packages (from tensorboard~=2.19.0->tensorflow>=1.9.0->deepface) (3.4.1)\n",
      "Requirement already satisfied: tensorboard-data-server<0.8.0,>=0.7.0 in c:\\users\\dhruv\\anaconda3\\lib\\site-packages (from tensorboard~=2.19.0->tensorflow>=1.9.0->deepface) (0.7.2)\n",
      "Requirement already satisfied: soupsieve>1.2 in c:\\users\\dhruv\\anaconda3\\lib\\site-packages (from beautifulsoup4->gdown>=3.10.1->deepface) (2.5)\n",
      "Requirement already satisfied: PySocks!=1.5.7,>=1.5.6 in c:\\users\\dhruv\\anaconda3\\lib\\site-packages (from requests[socks]->gdown>=3.10.1->deepface) (1.7.1)\n",
      "Requirement already satisfied: markdown-it-py>=2.2.0 in c:\\users\\dhruv\\anaconda3\\lib\\site-packages (from rich->keras>=2.2.0->deepface) (2.2.0)\n",
      "Requirement already satisfied: pygments<3.0.0,>=2.13.0 in c:\\users\\dhruv\\anaconda3\\lib\\site-packages (from rich->keras>=2.2.0->deepface) (2.15.1)\n",
      "Requirement already satisfied: mdurl~=0.1 in c:\\users\\dhruv\\anaconda3\\lib\\site-packages (from markdown-it-py>=2.2.0->rich->keras>=2.2.0->deepface) (0.1.0)\n"
     ]
    }
   ],
   "source": [
    "!pip install deepface opencv-python\n"
   ]
  },
  {
   "cell_type": "code",
   "execution_count": 3,
   "id": "43d7f887-5a66-4b14-af01-d2713d6919c0",
   "metadata": {},
   "outputs": [
    {
     "name": "stdout",
     "output_type": "stream",
     "text": [
      "WARNING:tensorflow:From C:\\Users\\dhruv\\anaconda3\\Lib\\site-packages\\tf_keras\\src\\losses.py:2976: The name tf.losses.sparse_softmax_cross_entropy is deprecated. Please use tf.compat.v1.losses.sparse_softmax_cross_entropy instead.\n",
      "\n"
     ]
    }
   ],
   "source": [
    "import cv2\n",
    "import os\n",
    "import numpy as np\n",
    "from deepface import DeepFace"
   ]
  },
  {
   "cell_type": "code",
   "execution_count": 11,
   "id": "0e936e83-3235-4670-9a67-2a80e5944fae",
   "metadata": {},
   "outputs": [
    {
     "data": {
      "text/plain": [
       "[                identity                                      hash  target_x  \\\n",
       " 0  faces_db\\hariom\\5.jpg  314494c5ea0a764ad3f46400f381387c2247876e       162   \n",
       " 1  faces_db\\hariom\\1.jpg  c94d9133534c9883d70c60c1cd9c4ac9dd416c29        62   \n",
       " \n",
       "    target_y  target_w  target_h  source_x  source_y  source_w  source_h  \\\n",
       " 0       674       459       459       162       674       459       459   \n",
       " 1       903      1880      1880       162       674       459       459   \n",
       " \n",
       "    threshold  distance  \n",
       " 0        0.3  0.000000  \n",
       " 1        0.3  0.292621  ]"
      ]
     },
     "execution_count": 11,
     "metadata": {},
     "output_type": "execute_result"
    }
   ],
   "source": [
    "DeepFace.find(\n",
    "    img_path=r\"C:\\Users\\dhruv\\face_recogn_att\\faces_db\\hariom\\5.jpg\",  # use any image from your db\n",
    "    db_path=\"faces_db\", \n",
    "    model_name=\"Facenet512\", \n",
    "    enforce_detection=False,\n",
    "    silent=True\n",
    ")\n"
   ]
  },
  {
   "cell_type": "code",
   "execution_count": 13,
   "id": "71e882b1-9e77-4b67-8511-4ddefc21c3bc",
   "metadata": {},
   "outputs": [],
   "source": [
    "def identify_person(frame, db_path, threshold=0.3, model_name='Facenet512'):\n",
    "    try:\n",
    "        result = DeepFace.find(\n",
    "            img_path=frame,\n",
    "            db_path=db_path,\n",
    "            model_name=model_name,\n",
    "            enforce_detection=False,\n",
    "            silent=True\n",
    "        )\n",
    "\n",
    "        if len(result) > 0 and not result[0].empty:\n",
    "            identity_path = result[0].iloc[0]['identity']\n",
    "            distance_col = [col for col in result[0].columns if 'cosine' in col.lower()]\n",
    "            if distance_col:\n",
    "                distance = result[0].iloc[0][distance_col[0]]\n",
    "                if distance < threshold:\n",
    "                    name = os.path.basename(os.path.dirname(identity_path))\n",
    "                    return name\n",
    "    except Exception as e:\n",
    "        print(\"Detection error:\", e)\n",
    "\n",
    "    return \"Unknown\"\n"
   ]
  },
  {
   "cell_type": "code",
   "execution_count": 15,
   "id": "64a3749d-0f5f-407c-b70e-45db9240526c",
   "metadata": {},
   "outputs": [
    {
     "name": "stdout",
     "output_type": "stream",
     "text": [
      "Identified: Unknown\n"
     ]
    }
   ],
   "source": [
    "person = identify_person(\"C:/Users/dhruv/face_recogn_att/faces_db/hariom/5.jpg\"\n",
    ", \"faces_db\")\n",
    "print(\"Identified:\", person)\n"
   ]
  },
  {
   "cell_type": "code",
   "execution_count": 17,
   "id": "5b18a6bf-ccf1-466c-9925-300ecf772830",
   "metadata": {},
   "outputs": [
    {
     "name": "stdout",
     "output_type": "stream",
     "text": [
      "25-04-21 23:44:29 - age_model_weights.h5 will be downloaded...\n"
     ]
    },
    {
     "name": "stderr",
     "output_type": "stream",
     "text": [
      "Downloading...\n",
      "From: https://github.com/serengil/deepface_models/releases/download/v1.0/age_model_weights.h5\n",
      "To: C:\\Users\\dhruv\\.deepface\\weights\\age_model_weights.h5\n",
      "100%|██████████| 539M/539M [13:21<00:00, 672kB/s]    \n"
     ]
    },
    {
     "name": "stdout",
     "output_type": "stream",
     "text": [
      "[{'age': 28, 'region': {'x': 162, 'y': 674, 'w': 459, 'h': 459, 'left_eye': (484, 845), 'right_eye': (310, 851)}, 'face_confidence': 0.94}]\n"
     ]
    }
   ],
   "source": [
    "from deepface import DeepFace\n",
    "\n",
    "analysis = DeepFace.analyze(\n",
    "    img_path = \"C:/Users/dhruv/face_recogn_att/faces_db/hariom/5.jpg\",\n",
    "    actions = ['age'],  # just a lightweight test\n",
    "    enforce_detection = False\n",
    ")\n",
    "print(analysis)\n"
   ]
  },
  {
   "cell_type": "code",
   "execution_count": 19,
   "id": "dff908a7-df40-4082-87ec-9ca62f3bba41",
   "metadata": {},
   "outputs": [
    {
     "data": {
      "text/plain": [
       "[                identity                                      hash  target_x  \\\n",
       " 0  faces_db\\hariom\\5.jpg  314494c5ea0a764ad3f46400f381387c2247876e       162   \n",
       " 1  faces_db\\hariom\\1.jpg  c94d9133534c9883d70c60c1cd9c4ac9dd416c29        62   \n",
       " \n",
       "    target_y  target_w  target_h  source_x  source_y  source_w  source_h  \\\n",
       " 0       674       459       459       162       674       459       459   \n",
       " 1       903      1880      1880       162       674       459       459   \n",
       " \n",
       "    threshold  distance  \n",
       " 0        0.3  0.000000  \n",
       " 1        0.3  0.292621  ]"
      ]
     },
     "execution_count": 19,
     "metadata": {},
     "output_type": "execute_result"
    }
   ],
   "source": [
    "DeepFace.find(\n",
    "    img_path=\"C:/Users/dhruv/face_recogn_att/faces_db/hariom/5.jpg\",  # just 1 valid face image\n",
    "    db_path=\"faces_db\",\n",
    "    model_name=\"Facenet512\",\n",
    "    enforce_detection=False,\n",
    "    silent=True\n",
    ")\n"
   ]
  },
  {
   "cell_type": "code",
   "execution_count": null,
   "id": "c60a256a-0637-4014-ade3-83254cadacca",
   "metadata": {},
   "outputs": [],
   "source": []
  }
 ],
 "metadata": {
  "kernelspec": {
   "display_name": "Python [conda env:base] *",
   "language": "python",
   "name": "conda-base-py"
  },
  "language_info": {
   "codemirror_mode": {
    "name": "ipython",
    "version": 3
   },
   "file_extension": ".py",
   "mimetype": "text/x-python",
   "name": "python",
   "nbconvert_exporter": "python",
   "pygments_lexer": "ipython3",
   "version": "3.12.7"
  }
 },
 "nbformat": 4,
 "nbformat_minor": 5
}
