{
 "cells": [
  {
   "cell_type": "code",
   "execution_count": 1,
   "id": "7e41a078-5006-4151-b18c-1073d0278f11",
   "metadata": {},
   "outputs": [
    {
     "name": "stdout",
     "output_type": "stream",
     "text": [
      "Requirement already satisfied: deepface in c:\\users\\dhruv\\anaconda3\\lib\\site-packages (0.0.93)\n",
      "Requirement already satisfied: opencv-python in c:\\users\\dhruv\\anaconda3\\lib\\site-packages (4.11.0.86)\n",
      "Requirement already satisfied: tf-keras in c:\\users\\dhruv\\anaconda3\\lib\\site-packages (2.19.0)\n",
      "Requirement already satisfied: requests>=2.27.1 in c:\\users\\dhruv\\anaconda3\\lib\\site-packages (from deepface) (2.32.3)\n",
      "Requirement already satisfied: numpy>=1.14.0 in c:\\users\\dhruv\\anaconda3\\lib\\site-packages (from deepface) (1.26.4)\n",
      "Requirement already satisfied: pandas>=0.23.4 in c:\\users\\dhruv\\anaconda3\\lib\\site-packages (from deepface) (2.2.2)\n",
      "Requirement already satisfied: gdown>=3.10.1 in c:\\users\\dhruv\\anaconda3\\lib\\site-packages (from deepface) (5.2.0)\n",
      "Requirement already satisfied: tqdm>=4.30.0 in c:\\users\\dhruv\\anaconda3\\lib\\site-packages (from deepface) (4.66.5)\n",
      "Requirement already satisfied: Pillow>=5.2.0 in c:\\users\\dhruv\\anaconda3\\lib\\site-packages (from deepface) (10.4.0)\n",
      "Requirement already satisfied: tensorflow>=1.9.0 in c:\\users\\dhruv\\anaconda3\\lib\\site-packages (from deepface) (2.19.0)\n",
      "Requirement already satisfied: keras>=2.2.0 in c:\\users\\dhruv\\anaconda3\\lib\\site-packages (from deepface) (3.9.2)\n",
      "Requirement already satisfied: Flask>=1.1.2 in c:\\users\\dhruv\\anaconda3\\lib\\site-packages (from deepface) (3.0.3)\n",
      "Requirement already satisfied: flask-cors>=4.0.1 in c:\\users\\dhruv\\anaconda3\\lib\\site-packages (from deepface) (5.0.1)\n",
      "Requirement already satisfied: mtcnn>=0.1.0 in c:\\users\\dhruv\\anaconda3\\lib\\site-packages (from deepface) (1.0.0)\n",
      "Requirement already satisfied: retina-face>=0.0.1 in c:\\users\\dhruv\\anaconda3\\lib\\site-packages (from deepface) (0.0.17)\n",
      "Requirement already satisfied: fire>=0.4.0 in c:\\users\\dhruv\\anaconda3\\lib\\site-packages (from deepface) (0.7.0)\n",
      "Requirement already satisfied: gunicorn>=20.1.0 in c:\\users\\dhruv\\anaconda3\\lib\\site-packages (from deepface) (23.0.0)\n",
      "Requirement already satisfied: termcolor in c:\\users\\dhruv\\anaconda3\\lib\\site-packages (from fire>=0.4.0->deepface) (3.0.1)\n",
      "Requirement already satisfied: Werkzeug>=3.0.0 in c:\\users\\dhruv\\anaconda3\\lib\\site-packages (from Flask>=1.1.2->deepface) (3.0.3)\n",
      "Requirement already satisfied: Jinja2>=3.1.2 in c:\\users\\dhruv\\anaconda3\\lib\\site-packages (from Flask>=1.1.2->deepface) (3.1.4)\n",
      "Requirement already satisfied: itsdangerous>=2.1.2 in c:\\users\\dhruv\\anaconda3\\lib\\site-packages (from Flask>=1.1.2->deepface) (2.2.0)\n",
      "Requirement already satisfied: click>=8.1.3 in c:\\users\\dhruv\\anaconda3\\lib\\site-packages (from Flask>=1.1.2->deepface) (8.1.7)\n",
      "Requirement already satisfied: blinker>=1.6.2 in c:\\users\\dhruv\\anaconda3\\lib\\site-packages (from Flask>=1.1.2->deepface) (1.6.2)\n",
      "Requirement already satisfied: beautifulsoup4 in c:\\users\\dhruv\\anaconda3\\lib\\site-packages (from gdown>=3.10.1->deepface) (4.12.3)\n",
      "Requirement already satisfied: filelock in c:\\users\\dhruv\\anaconda3\\lib\\site-packages (from gdown>=3.10.1->deepface) (3.13.1)\n",
      "Requirement already satisfied: packaging in c:\\users\\dhruv\\anaconda3\\lib\\site-packages (from gunicorn>=20.1.0->deepface) (24.1)\n",
      "Requirement already satisfied: absl-py in c:\\users\\dhruv\\anaconda3\\lib\\site-packages (from keras>=2.2.0->deepface) (2.2.2)\n",
      "Requirement already satisfied: rich in c:\\users\\dhruv\\anaconda3\\lib\\site-packages (from keras>=2.2.0->deepface) (13.7.1)\n",
      "Requirement already satisfied: namex in c:\\users\\dhruv\\anaconda3\\lib\\site-packages (from keras>=2.2.0->deepface) (0.0.8)\n",
      "Requirement already satisfied: h5py in c:\\users\\dhruv\\anaconda3\\lib\\site-packages (from keras>=2.2.0->deepface) (3.11.0)\n",
      "Requirement already satisfied: optree in c:\\users\\dhruv\\anaconda3\\lib\\site-packages (from keras>=2.2.0->deepface) (0.15.0)\n",
      "Requirement already satisfied: ml-dtypes in c:\\users\\dhruv\\anaconda3\\lib\\site-packages (from keras>=2.2.0->deepface) (0.5.1)\n",
      "Requirement already satisfied: joblib>=1.4.2 in c:\\users\\dhruv\\anaconda3\\lib\\site-packages (from mtcnn>=0.1.0->deepface) (1.4.2)\n",
      "Requirement already satisfied: lz4>=4.3.3 in c:\\users\\dhruv\\anaconda3\\lib\\site-packages (from mtcnn>=0.1.0->deepface) (4.4.4)\n",
      "Requirement already satisfied: python-dateutil>=2.8.2 in c:\\users\\dhruv\\anaconda3\\lib\\site-packages (from pandas>=0.23.4->deepface) (2.9.0.post0)\n",
      "Requirement already satisfied: pytz>=2020.1 in c:\\users\\dhruv\\anaconda3\\lib\\site-packages (from pandas>=0.23.4->deepface) (2024.1)\n",
      "Requirement already satisfied: tzdata>=2022.7 in c:\\users\\dhruv\\anaconda3\\lib\\site-packages (from pandas>=0.23.4->deepface) (2023.3)\n",
      "Requirement already satisfied: charset-normalizer<4,>=2 in c:\\users\\dhruv\\anaconda3\\lib\\site-packages (from requests>=2.27.1->deepface) (3.3.2)\n",
      "Requirement already satisfied: idna<4,>=2.5 in c:\\users\\dhruv\\anaconda3\\lib\\site-packages (from requests>=2.27.1->deepface) (3.7)\n",
      "Requirement already satisfied: urllib3<3,>=1.21.1 in c:\\users\\dhruv\\anaconda3\\lib\\site-packages (from requests>=2.27.1->deepface) (2.2.3)\n",
      "Requirement already satisfied: certifi>=2017.4.17 in c:\\users\\dhruv\\anaconda3\\lib\\site-packages (from requests>=2.27.1->deepface) (2025.1.31)\n",
      "Requirement already satisfied: astunparse>=1.6.0 in c:\\users\\dhruv\\anaconda3\\lib\\site-packages (from tensorflow>=1.9.0->deepface) (1.6.3)\n",
      "Requirement already satisfied: flatbuffers>=24.3.25 in c:\\users\\dhruv\\anaconda3\\lib\\site-packages (from tensorflow>=1.9.0->deepface) (25.2.10)\n",
      "Requirement already satisfied: gast!=0.5.0,!=0.5.1,!=0.5.2,>=0.2.1 in c:\\users\\dhruv\\anaconda3\\lib\\site-packages (from tensorflow>=1.9.0->deepface) (0.6.0)\n",
      "Requirement already satisfied: google-pasta>=0.1.1 in c:\\users\\dhruv\\anaconda3\\lib\\site-packages (from tensorflow>=1.9.0->deepface) (0.2.0)\n",
      "Requirement already satisfied: libclang>=13.0.0 in c:\\users\\dhruv\\anaconda3\\lib\\site-packages (from tensorflow>=1.9.0->deepface) (18.1.1)\n",
      "Requirement already satisfied: opt-einsum>=2.3.2 in c:\\users\\dhruv\\anaconda3\\lib\\site-packages (from tensorflow>=1.9.0->deepface) (3.4.0)\n",
      "Requirement already satisfied: protobuf!=4.21.0,!=4.21.1,!=4.21.2,!=4.21.3,!=4.21.4,!=4.21.5,<6.0.0dev,>=3.20.3 in c:\\users\\dhruv\\anaconda3\\lib\\site-packages (from tensorflow>=1.9.0->deepface) (4.25.3)\n",
      "Requirement already satisfied: setuptools in c:\\users\\dhruv\\anaconda3\\lib\\site-packages (from tensorflow>=1.9.0->deepface) (75.1.0)\n",
      "Requirement already satisfied: six>=1.12.0 in c:\\users\\dhruv\\anaconda3\\lib\\site-packages (from tensorflow>=1.9.0->deepface) (1.16.0)\n",
      "Requirement already satisfied: typing-extensions>=3.6.6 in c:\\users\\dhruv\\anaconda3\\lib\\site-packages (from tensorflow>=1.9.0->deepface) (4.11.0)\n",
      "Requirement already satisfied: wrapt>=1.11.0 in c:\\users\\dhruv\\anaconda3\\lib\\site-packages (from tensorflow>=1.9.0->deepface) (1.14.1)\n",
      "Requirement already satisfied: grpcio<2.0,>=1.24.3 in c:\\users\\dhruv\\anaconda3\\lib\\site-packages (from tensorflow>=1.9.0->deepface) (1.71.0)\n",
      "Requirement already satisfied: tensorboard~=2.19.0 in c:\\users\\dhruv\\anaconda3\\lib\\site-packages (from tensorflow>=1.9.0->deepface) (2.19.0)\n",
      "Requirement already satisfied: colorama in c:\\users\\dhruv\\anaconda3\\lib\\site-packages (from tqdm>=4.30.0->deepface) (0.4.6)\n",
      "Requirement already satisfied: wheel<1.0,>=0.23.0 in c:\\users\\dhruv\\anaconda3\\lib\\site-packages (from astunparse>=1.6.0->tensorflow>=1.9.0->deepface) (0.44.0)\n",
      "Requirement already satisfied: MarkupSafe>=2.0 in c:\\users\\dhruv\\anaconda3\\lib\\site-packages (from Jinja2>=3.1.2->Flask>=1.1.2->deepface) (2.1.3)\n",
      "Requirement already satisfied: markdown>=2.6.8 in c:\\users\\dhruv\\anaconda3\\lib\\site-packages (from tensorboard~=2.19.0->tensorflow>=1.9.0->deepface) (3.4.1)\n",
      "Requirement already satisfied: tensorboard-data-server<0.8.0,>=0.7.0 in c:\\users\\dhruv\\anaconda3\\lib\\site-packages (from tensorboard~=2.19.0->tensorflow>=1.9.0->deepface) (0.7.2)\n",
      "Requirement already satisfied: soupsieve>1.2 in c:\\users\\dhruv\\anaconda3\\lib\\site-packages (from beautifulsoup4->gdown>=3.10.1->deepface) (2.5)\n",
      "Requirement already satisfied: PySocks!=1.5.7,>=1.5.6 in c:\\users\\dhruv\\anaconda3\\lib\\site-packages (from requests[socks]->gdown>=3.10.1->deepface) (1.7.1)\n",
      "Requirement already satisfied: markdown-it-py>=2.2.0 in c:\\users\\dhruv\\anaconda3\\lib\\site-packages (from rich->keras>=2.2.0->deepface) (2.2.0)\n",
      "Requirement already satisfied: pygments<3.0.0,>=2.13.0 in c:\\users\\dhruv\\anaconda3\\lib\\site-packages (from rich->keras>=2.2.0->deepface) (2.15.1)\n",
      "Requirement already satisfied: mdurl~=0.1 in c:\\users\\dhruv\\anaconda3\\lib\\site-packages (from markdown-it-py>=2.2.0->rich->keras>=2.2.0->deepface) (0.1.0)\n"
     ]
    }
   ],
   "source": [
    "!pip install deepface opencv-python tf-keras"
   ]
  },
  {
   "cell_type": "code",
   "execution_count": 2,
   "id": "90ed2e12-45d9-4c59-a1a6-76f5af445ed6",
   "metadata": {},
   "outputs": [
    {
     "name": "stdout",
     "output_type": "stream",
     "text": [
      "WARNING:tensorflow:From c:\\Users\\dhruv\\anaconda3\\Lib\\site-packages\\tf_keras\\src\\losses.py:2976: The name tf.losses.sparse_softmax_cross_entropy is deprecated. Please use tf.compat.v1.losses.sparse_softmax_cross_entropy instead.\n",
      "\n"
     ]
    }
   ],
   "source": [
    "import os\n",
    "import cv2\n",
    "import time\n",
    "import pandas as pd\n",
    "from datetime import datetime\n",
    "from deepface import DeepFace\n"
   ]
  },
  {
   "cell_type": "code",
   "execution_count": 3,
   "id": "bc4afdef-9c5e-43f1-85d7-b99a4853de24",
   "metadata": {},
   "outputs": [],
   "source": [
    "from deepface import DeepFace\n",
    "import os\n",
    "\n",
    "def identify_person(img_path, db_path, model_name=\"Facenet512\", threshold=0.3):\n",
    "    try:\n",
    "        # Perform face recognition\n",
    "        df = DeepFace.find(\n",
    "            img_path=img_path,\n",
    "            db_path=db_path,\n",
    "            model_name=model_name,\n",
    "            enforce_detection=False,\n",
    "            silent=True\n",
    "        )[0]  # the returned result is a list of DataFrames\n",
    "\n",
    "        if df.shape[0] == 0:\n",
    "            return \"Unknown\"\n",
    "\n",
    "        # Check if any match is below the threshold\n",
    "        best_match = df.iloc[0]\n",
    "        if best_match[\"distance\"] <= threshold:\n",
    "            # Extract person's name from path\n",
    "            identity_path = best_match[\"identity\"]\n",
    "            person_name = os.path.basename(os.path.dirname(identity_path))\n",
    "            return person_name\n",
    "        else:\n",
    "            return \"Unknown\"\n",
    "\n",
    "    except Exception as e:\n",
    "        print(\"Detection error:\", e)\n",
    "        return \"Unknown\"\n"
   ]
  },
  {
   "cell_type": "code",
   "execution_count": 4,
   "id": "387ed0b5-0d52-4335-90fa-6987b8c1df07",
   "metadata": {},
   "outputs": [],
   "source": [
    "def mark_attendance(name):\n",
    "    now = datetime.now()\n",
    "    dt_string = now.strftime('%Y-%m-%d %H:%M:%S')\n",
    "    df = pd.DataFrame([[name, dt_string]], columns=[\"Name\", \"Time\"])\n",
    "    df.to_csv(\"attendance.csv\", mode='a', header=not os.path.exists(\"attendance.csv\"), index=False)\n",
    "    print(f\"[LOGGED] {name} at {dt_string}\")\n"
   ]
  },
  {
   "cell_type": "code",
   "execution_count": 5,
   "id": "0ee686ad-5e36-4ece-934b-9f735e0f4815",
   "metadata": {},
   "outputs": [
    {
     "name": "stdout",
     "output_type": "stream",
     "text": [
      "[LOGGED] akshay at 2025-04-22 01:25:12\n",
      "[LOGGED] pratik at 2025-04-22 01:25:23\n",
      "[LOGGED] Dhruv at 2025-04-22 01:25:30\n",
      "[LOGGED] hariom at 2025-04-22 01:25:55\n",
      "[LOGGED] pritesh at 2025-04-22 01:26:05\n",
      "[INFO] 2 minutes passed. Exiting...\n"
     ]
    }
   ],
   "source": [
    "attendance_logged = set()\n",
    "db_path = \"faces_db\"\n",
    "cap = cv2.VideoCapture(0)\n",
    "start_time = time.time()\n",
    "max_duration = 2 * 60  # 2 minutes\n",
    "\n",
    "while True:\n",
    "    ret, frame = cap.read()\n",
    "    if not ret:\n",
    "        break\n",
    "\n",
    "    name = identify_person(frame, db_path, threshold=0.3, model_name='Facenet512')\n",
    "\n",
    "    if name != \"Unknown\":\n",
    "        if name not in attendance_logged:\n",
    "            mark_attendance(name)\n",
    "            attendance_logged.add(name)\n",
    "\n",
    "    # Draw name on frame\n",
    "    cv2.putText(frame, name, (30, 30), cv2.FONT_HERSHEY_SIMPLEX, 1,\n",
    "                (0, 255, 0) if name != \"Unknown\" else (0, 0, 255), 2)\n",
    "\n",
    "    cv2.imshow(\"Face Attendance\", frame)\n",
    "\n",
    "    # Stop if 2 minutes pass or 'q' is pressed\n",
    "    if time.time() - start_time > max_duration:\n",
    "        print(\"[INFO] 2 minutes passed. Exiting...\")\n",
    "        break\n",
    "    if cv2.waitKey(1) & 0xFF == ord('q'):\n",
    "        break\n",
    "\n",
    "cap.release()\n",
    "cv2.destroyAllWindows()\n"
   ]
  },
  {
   "cell_type": "code",
   "execution_count": null,
   "id": "399f154e-b0c3-4834-a2ee-b910a3f4e0f8",
   "metadata": {},
   "outputs": [],
   "source": []
  }
 ],
 "metadata": {
  "kernelspec": {
   "display_name": "base",
   "language": "python",
   "name": "python3"
  },
  "language_info": {
   "codemirror_mode": {
    "name": "ipython",
    "version": 3
   },
   "file_extension": ".py",
   "mimetype": "text/x-python",
   "name": "python",
   "nbconvert_exporter": "python",
   "pygments_lexer": "ipython3",
   "version": "3.12.7"
  }
 },
 "nbformat": 4,
 "nbformat_minor": 5
}
