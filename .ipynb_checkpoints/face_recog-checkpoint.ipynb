{
 "cells": [
  {
   "cell_type": "code",
   "execution_count": null,
   "id": "7e41a078-5006-4151-b18c-1073d0278f11",
   "metadata": {},
   "outputs": [],
   "source": [
    "!pip install deepface opencv-python tf-keras"
   ]
  },
  {
   "cell_type": "code",
   "execution_count": 1,
   "id": "90ed2e12-45d9-4c59-a1a6-76f5af445ed6",
   "metadata": {},
   "outputs": [
    {
     "name": "stdout",
     "output_type": "stream",
     "text": [
      "WARNING:tensorflow:From C:\\Users\\dhruv\\anaconda3\\Lib\\site-packages\\tf_keras\\src\\losses.py:2976: The name tf.losses.sparse_softmax_cross_entropy is deprecated. Please use tf.compat.v1.losses.sparse_softmax_cross_entropy instead.\n",
      "\n"
     ]
    }
   ],
   "source": [
    "import os\n",
    "import cv2\n",
    "import time\n",
    "import pandas as pd\n",
    "from datetime import datetime\n",
    "from deepface import DeepFace\n"
   ]
  },
  {
   "cell_type": "code",
   "execution_count": 3,
   "id": "bc4afdef-9c5e-43f1-85d7-b99a4853de24",
   "metadata": {},
   "outputs": [],
   "source": [
    "from deepface import DeepFace\n",
    "import os\n",
    "\n",
    "def identify_person(img_path, db_path, model_name=\"Facenet512\", threshold=0.3):\n",
    "    try:\n",
    "        # Perform face recognition\n",
    "        df = DeepFace.find(\n",
    "            img_path=img_path,\n",
    "            db_path=db_path,\n",
    "            model_name=model_name,\n",
    "            enforce_detection=False,\n",
    "            silent=True\n",
    "        )[0]  # the returned result is a list of DataFrames\n",
    "\n",
    "        if df.shape[0] == 0:\n",
    "            return \"Unknown\"\n",
    "\n",
    "        # Check if any match is below the threshold\n",
    "        best_match = df.iloc[0]\n",
    "        if best_match[\"distance\"] <= threshold:\n",
    "            # Extract person's name from path\n",
    "            identity_path = best_match[\"identity\"]\n",
    "            person_name = os.path.basename(os.path.dirname(identity_path))\n",
    "            return person_name\n",
    "        else:\n",
    "            return \"Unknown\"\n",
    "\n",
    "    except Exception as e:\n",
    "        print(\"Detection error:\", e)\n",
    "        return \"Unknown\"\n"
   ]
  },
  {
   "cell_type": "code",
   "execution_count": 5,
   "id": "387ed0b5-0d52-4335-90fa-6987b8c1df07",
   "metadata": {},
   "outputs": [],
   "source": [
    "def mark_attendance(name):\n",
    "    now = datetime.now()\n",
    "    dt_string = now.strftime('%Y-%m-%d %H:%M:%S')\n",
    "    df = pd.DataFrame([[name, dt_string]], columns=[\"Name\", \"Time\"])\n",
    "    df.to_csv(\"attendance.csv\", mode='a', header=not os.path.exists(\"attendance.csv\"), index=False)\n",
    "    print(f\"[LOGGED] {name} at {dt_string}\")\n"
   ]
  },
  {
   "cell_type": "code",
   "execution_count": 7,
   "id": "0ee686ad-5e36-4ece-934b-9f735e0f4815",
   "metadata": {},
   "outputs": [
    {
     "name": "stdout",
     "output_type": "stream",
     "text": [
      "[LOGGED] Dhruv at 2025-04-22 00:09:46\n",
      "[LOGGED] akshay at 2025-04-22 00:09:57\n",
      "[LOGGED] pratik at 2025-04-22 00:10:37\n",
      "[LOGGED] hariom at 2025-04-22 00:10:46\n",
      "[LOGGED] pritesh at 2025-04-22 00:11:00\n",
      "[INFO] 2 minutes passed. Exiting...\n"
     ]
    }
   ],
   "source": [
    "attendance_logged = set()\n",
    "db_path = \"faces_db\"\n",
    "cap = cv2.VideoCapture(0)\n",
    "start_time = time.time()\n",
    "max_duration = 2 * 60  # 2 minutes\n",
    "\n",
    "while True:\n",
    "    ret, frame = cap.read()\n",
    "    if not ret:\n",
    "        break\n",
    "\n",
    "    name = identify_person(frame, db_path, threshold=0.3, model_name='Facenet512')\n",
    "\n",
    "    if name != \"Unknown\":\n",
    "        if name not in attendance_logged:\n",
    "            mark_attendance(name)\n",
    "            attendance_logged.add(name)\n",
    "\n",
    "    # Draw name on frame\n",
    "    cv2.putText(frame, name, (30, 30), cv2.FONT_HERSHEY_SIMPLEX, 1,\n",
    "                (0, 255, 0) if name != \"Unknown\" else (0, 0, 255), 2)\n",
    "\n",
    "    cv2.imshow(\"Face Attendance\", frame)\n",
    "\n",
    "    # Stop if 2 minutes pass or 'q' is pressed\n",
    "    if time.time() - start_time > max_duration:\n",
    "        print(\"[INFO] 2 minutes passed. Exiting...\")\n",
    "        break\n",
    "    if cv2.waitKey(1) & 0xFF == ord('q'):\n",
    "        break\n",
    "\n",
    "cap.release()\n",
    "cv2.destroyAllWindows()\n"
   ]
  },
  {
   "cell_type": "code",
   "execution_count": null,
   "id": "399f154e-b0c3-4834-a2ee-b910a3f4e0f8",
   "metadata": {},
   "outputs": [],
   "source": []
  }
 ],
 "metadata": {
  "kernelspec": {
   "display_name": "Python [conda env:base] *",
   "language": "python",
   "name": "conda-base-py"
  },
  "language_info": {
   "codemirror_mode": {
    "name": "ipython",
    "version": 3
   },
   "file_extension": ".py",
   "mimetype": "text/x-python",
   "name": "python",
   "nbconvert_exporter": "python",
   "pygments_lexer": "ipython3",
   "version": "3.12.7"
  }
 },
 "nbformat": 4,
 "nbformat_minor": 5
}
